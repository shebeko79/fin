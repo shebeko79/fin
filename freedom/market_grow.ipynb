{
 "cells": [
  {
   "cell_type": "code",
   "execution_count": null,
   "id": "60f22bc1",
   "metadata": {},
   "outputs": [],
   "source": [
    "import pickle\n",
    "import time\n",
    "import datetime\n",
    "import os.path\n",
    "import matplotlib.pyplot as plt\n",
    "import numpy as np\n",
    "import csv\n",
    "import pathlib\n",
    "import bisect\n"
   ]
  },
  {
   "cell_type": "code",
   "execution_count": null,
   "id": "6a4a0ba0",
   "metadata": {},
   "outputs": [],
   "source": [
    "start_date = datetime.datetime(2023, 1, 1, 0, 0,0)\n",
    "end_date = datetime.datetime.now()\n",
    "#end_date = datetime.datetime(2020, 3, 20, 0, 0,0)\n",
    "\n",
    "total_days = (end_date-start_date).days + 1\n",
    "print(total_days)\n",
    "\n",
    "total_price = np.zeros(total_days,dtype=float)"
   ]
  },
  {
   "cell_type": "code",
   "execution_count": null,
   "id": "898ec4ec",
   "metadata": {},
   "outputs": [],
   "source": [
    "def r2c(value):\n",
    "    return float(int(value*100+0.5))/100\n",
    "\n",
    "def scanFile(fileName) :\n",
    "    ticker_name = os.path.basename(fileName).replace(\".dat\",\"\")\n",
    "    #print(ticker_name)\n",
    "\n",
    "    arr = []\n",
    "    f = open(fileName, 'rb')\n",
    "    arr = pickle.load(f)\n",
    "    f.close()\n",
    "\n",
    "    cur_day = start_date\n",
    "    \n",
    "    start_index = bisect.bisect_left([r[0] for r in arr], cur_day.timestamp())\n",
    "\n",
    "    for idx in range(start_index,len(arr)):\n",
    "        \n",
    "        row = arr[idx]\n",
    "            \n",
    "        date = datetime.datetime.fromtimestamp(row[0])\n",
    "        o=float(row[1])\n",
    "        h=float(row[2])\n",
    "        l=float(row[3])\n",
    "        c=float(row[4])\n",
    "        \n",
    "        if date > end_date:\n",
    "            break\n",
    "       \n",
    "        if date > cur_day:\n",
    "            cur_day = date\n",
    "            \n",
    "        index = (cur_day-start_date).days\n",
    "        avg_price= (o+h+l+c)/4\n",
    "        \n",
    "        total_price[index]=total_price[index]+avg_price\n",
    "\n"
   ]
  },
  {
   "cell_type": "code",
   "execution_count": null,
   "id": "62f81996",
   "metadata": {
    "scrolled": true
   },
   "outputs": [],
   "source": [
    "ticker2arr=[]\n",
    "\n",
    "for p in pathlib.Path('bin').glob('**/*.dat') :\n",
    "    scanFile(p)"
   ]
  },
  {
   "cell_type": "code",
   "execution_count": null,
   "id": "89f52e4d",
   "metadata": {},
   "outputs": [],
   "source": [
    "day_x=np.arange(0,len(total_price),dtype=float)\n",
    "\n",
    "del_arr=[]\n",
    "for i in range(0,len(total_price)):\n",
    "    if total_price[i] == 0.0:\n",
    "        del_arr.append(i)\n",
    "        \n",
    "day_x = np.delete(day_x, del_arr, axis=0)\n",
    "total_price = np.delete(total_price, del_arr, axis=0)\n",
    "    "
   ]
  },
  {
   "cell_type": "code",
   "execution_count": null,
   "id": "a6ee48ac",
   "metadata": {},
   "outputs": [],
   "source": [
    "days=[]\n",
    "for d in day_x:\n",
    "    days.append((start_date + datetime.timedelta(days=d)).strftime('%Y-%m-%d'))\n",
    "    \n",
    "print(days[0])\n",
    "print(days[-1])\n",
    "print(len(total_price))\n",
    "print(len(day_x))\n"
   ]
  },
  {
   "cell_type": "code",
   "execution_count": null,
   "id": "5e8ceaf5",
   "metadata": {},
   "outputs": [],
   "source": [
    "%matplotlib notebook\n",
    "plt.plot(days,total_price)\n",
    "#plt.xlim(20, 190)\n",
    "#plt.ylim(0, 80000)\n",
    "plt.show()\n"
   ]
  },
  {
   "cell_type": "code",
   "execution_count": null,
   "id": "e866107b",
   "metadata": {},
   "outputs": [],
   "source": []
  }
 ],
 "metadata": {
  "kernelspec": {
   "display_name": "Python 3 (ipykernel)",
   "language": "python",
   "name": "python3"
  },
  "language_info": {
   "codemirror_mode": {
    "name": "ipython",
    "version": 3
   },
   "file_extension": ".py",
   "mimetype": "text/x-python",
   "name": "python",
   "nbconvert_exporter": "python",
   "pygments_lexer": "ipython3",
   "version": "3.9.4"
  }
 },
 "nbformat": 4,
 "nbformat_minor": 5
}
