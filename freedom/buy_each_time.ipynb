{
 "cells": [
  {
   "cell_type": "code",
   "execution_count": null,
   "id": "60f22bc1",
   "metadata": {},
   "outputs": [],
   "source": [
    "import pickle\n",
    "import time\n",
    "import datetime\n",
    "import os.path\n",
    "import matplotlib.pyplot as plt\n",
    "import numpy as np\n",
    "import csv\n",
    "import pathlib\n",
    "import bisect\n"
   ]
  },
  {
   "cell_type": "code",
   "execution_count": null,
   "id": "6a4a0ba0",
   "metadata": {},
   "outputs": [],
   "source": [
    "start_date = datetime.datetime(2019, 1, 1, 0, 0,0)\n",
    "end_date = datetime.datetime.now()\n",
    "#end_date = datetime.datetime(2020, 3, 20, 0, 0,0)\n",
    "\n",
    "total_days = (end_date-start_date).days + 1\n",
    "print(total_days)\n",
    "\n",
    "one_buy_shares_count=4"
   ]
  },
  {
   "cell_type": "code",
   "execution_count": null,
   "id": "898ec4ec",
   "metadata": {},
   "outputs": [],
   "source": [
    "def r2c(value):\n",
    "    return float(int(value*100+0.5))/100\n",
    "\n",
    "def fees(price,items_count):\n",
    "    ret = price*items_count*0.5/100\n",
    "    \n",
    "    if items_count<100:\n",
    "        ret+=1.2\n",
    "    else:\n",
    "        ret+=0.012*items_count\n",
    "    \n",
    "    return r2c(ret)\n",
    "\n",
    "\n",
    "def scanFile(fileName) :\n",
    "    ticker_name = os.path.basename(fileName).replace(\".dat\",\"\")\n",
    "    #print(ticker_name)\n",
    "\n",
    "    arr = []\n",
    "    f = open(fileName, 'rb')\n",
    "    arr = pickle.load(f)\n",
    "    f.close()\n",
    "\n",
    "    cur_day = start_date\n",
    "    \n",
    "    start_index = bisect.bisect_left([r[0] for r in arr], cur_day.timestamp())\n",
    "    \n",
    "    last_c = 0\n",
    "    total_buy=0.0\n",
    "    buy_taxes=0.0\n",
    "    shares=0\n",
    "\n",
    "    for idx in range(start_index,len(arr)):\n",
    "        \n",
    "        row = arr[idx]\n",
    "            \n",
    "        date = datetime.datetime.fromtimestamp(row[0])\n",
    "        o=float(row[1])\n",
    "        h=float(row[2])\n",
    "        l=float(row[3])\n",
    "        c=float(row[4])\n",
    "        \n",
    "        last_c = c\n",
    "        \n",
    "        if date > end_date:\n",
    "            break\n",
    "       \n",
    "        if date > cur_day:\n",
    "            cur_day = date\n",
    "            \n",
    "        #if True:\n",
    "        if date.weekday() == 0: #Monday\n",
    "        #if date.weekday() == 4: #Friday\n",
    "        #if date.day == 1:\n",
    "        #if date.day == 15 and date.month == 1:\n",
    "        #if date.day == 15 and date.month == 6:\n",
    "            buy_price = (o+h+l+c)/4\n",
    "            total_buy = total_buy + buy_price*one_buy_shares_count\n",
    "            shares = shares + one_buy_shares_count\n",
    "            buy_taxes = buy_taxes + fees(buy_price,one_buy_shares_count)\n",
    "            \n",
    "        gain = c*shares - fees(c,shares) - total_buy - buy_taxes\n",
    "        \n",
    "        index = (cur_day-start_date).days\n",
    "        total_gain[index]=total_gain[index]+gain\n",
    "        buy_all_shares[index]=buy_all_shares[index]+total_buy\n",
    "        \n",
    "    if total_buy != 0:\n",
    "        gain = last_c*shares - fees(last_c,shares) - total_buy - buy_taxes\n",
    "        print(f'{ticker_name}: gain={r2c(gain)}({r2c(gain/total_buy*100)}%) N={shares} value={r2c(last_c*shares)} total_buy={r2c(total_buy)} buy_taxes={r2c(buy_taxes)}')"
   ]
  },
  {
   "cell_type": "code",
   "execution_count": null,
   "id": "62f81996",
   "metadata": {
    "scrolled": true
   },
   "outputs": [],
   "source": [
    "total_gain = np.zeros(total_days,dtype=float)\n",
    "buy_all_shares = np.zeros(total_days,dtype=float)\n",
    "\n",
    "#scanFile(\"bin/c.dat\")\n",
    "scanFile(\"bin/schd.dat\")\n",
    "scanFile(\"bin/spyd.dat\")\n",
    "#scanFile(\"bin/skm.dat\")\n",
    "scanFile(\"bin/lng.dat\")\n",
    "scanFile(\"bin/tan.dat\")\n"
   ]
  },
  {
   "cell_type": "code",
   "execution_count": null,
   "id": "89f52e4d",
   "metadata": {},
   "outputs": [],
   "source": [
    "day_x=np.arange(0,len(total_gain),dtype=float)\n",
    "\n",
    "del_arr=[]\n",
    "for i in range(0,len(buy_all_shares)):\n",
    "    if buy_all_shares[i] == 0.0:\n",
    "        del_arr.append(i)\n",
    "        \n",
    "day_x = np.delete(day_x, del_arr, axis=0)\n",
    "total_gain = np.delete(total_gain, del_arr, axis=0)\n",
    "buy_all_shares = np.delete(buy_all_shares, del_arr, axis=0)\n",
    "\n",
    "eff = total_gain / buy_all_shares * 100    "
   ]
  },
  {
   "cell_type": "code",
   "execution_count": null,
   "id": "a6ee48ac",
   "metadata": {},
   "outputs": [],
   "source": [
    "days=[]\n",
    "for d in day_x:\n",
    "    days.append((start_date + datetime.timedelta(days=d)).strftime('%Y-%m-%d'))\n",
    "    \n",
    "print(days[0])\n",
    "print(days[-1])\n",
    "print(len(total_gain))\n",
    "print(len(day_x))\n"
   ]
  },
  {
   "cell_type": "code",
   "execution_count": null,
   "id": "5e8ceaf5",
   "metadata": {},
   "outputs": [],
   "source": [
    "%matplotlib notebook\n",
    "plt.plot(days,total_gain)\n",
    "plt.show()\n"
   ]
  },
  {
   "cell_type": "code",
   "execution_count": null,
   "id": "9912f505",
   "metadata": {},
   "outputs": [],
   "source": [
    "%matplotlib notebook\n",
    "fig, ax1 = plt.subplots()\n",
    "color1 ='blue'\n",
    "ax1.plot(days,total_gain, color = color1)\n",
    "ax1.set_ylabel('Money $',color = color1);\n",
    "ax1.tick_params(axis='y',color = color1);\n",
    "\n",
    "color2 ='crimson'\n",
    "ax2 = ax1.twinx();\n",
    "ax2.plot(days,eff, color = color2)\n",
    "ax2.set_ylabel('Eff. %', color = color2);\n",
    "ax2.tick_params(axis='y',color = color2);\n"
   ]
  },
  {
   "cell_type": "code",
   "execution_count": null,
   "id": "13e22810",
   "metadata": {},
   "outputs": [],
   "source": []
  }
 ],
 "metadata": {
  "kernelspec": {
   "display_name": "Python 3 (ipykernel)",
   "language": "python",
   "name": "python3"
  },
  "language_info": {
   "codemirror_mode": {
    "name": "ipython",
    "version": 3
   },
   "file_extension": ".py",
   "mimetype": "text/x-python",
   "name": "python",
   "nbconvert_exporter": "python",
   "pygments_lexer": "ipython3",
   "version": "3.9.4"
  }
 },
 "nbformat": 4,
 "nbformat_minor": 5
}
